{
 "cells": [
  {
   "cell_type": "code",
   "execution_count": 1,
   "metadata": {},
   "outputs": [],
   "source": [
    "from config import Config\n",
    "from utils.scrapper_wikipedia import ScrapperWikipedia\n",
    "from utils.chunking_models import ChunkingModel\n",
    "from utils.index import Index\n",
    "from typing import List, Dict\n",
    "from utils.typedefs import ArticleInfo, Article, ArticleChunk, QueryScoresVectors, SearchResult, SearchResultsGroupedByDoc"
   ]
  },
  {
   "cell_type": "code",
   "execution_count": 2,
   "metadata": {},
   "outputs": [],
   "source": [
    "config = Config()"
   ]
  },
  {
   "cell_type": "code",
   "execution_count": 3,
   "metadata": {},
   "outputs": [],
   "source": [
    "def wikipedia_list_last_pt_articles(total_limit : int = config.SCRAPING_RESULTS_LIMIT) -> List[ArticleInfo]:\n",
    "    return config.wiki_search.list_last_pt_articles(total_limit=total_limit)\n",
    "\n",
    "def wikipedia_get_last_pt_articles(total_limit : int = config.SCRAPING_RESULTS_LIMIT,\n",
    "                                   requests_per_second : int = config.SCRAPING_REQUESTS_PER_SECOND,\n",
    "                                   processing_type : str = config.SCRAPING_TYPE,\n",
    "                                   verbose = config.VERBOSE) -> List[Article]:\n",
    "    return config.wiki_search.get_last_pt_articles(total_limit=total_limit, requests_per_second=requests_per_second,\n",
    "                    processing_type = processing_type, verbose = verbose)\n",
    "\n",
    "def wikipedia_get_article_chunks(articles : list[Article]):\n",
    "    return config.wiki_search.get_articles_chunks(articles=articles, chunking_model=config.chunking_model)\n",
    "\n",
    "def index_fit(docs : List[ArticleChunk]) -> Index:\n",
    "    return config.index.fit(docs=docs)\n",
    "\n",
    "def index_search(query : str, num_results : int = config.SEARCH_RESULTS_LIMIT) -> List[SearchResult]:\n",
    "    return config.index.search(query, boost_dict={}, num_results=num_results)\n",
    "\n",
    "def index_search_grouped_by_doc(query : str, num_results : int = config.SEARCH_RESULTS_LIMIT) -> List[SearchResultsGroupedByDoc]:\n",
    "    return config.index.search_by_doc(query=query, boost_dict={}, num_results=num_results)\n",
    "\n",
    "def index_refined_search(search_results : list[SearchResultsGroupedByDoc], positive : List[str], negative : List[str]) -> List[SearchResultsGroupedByDoc]:\n",
    "    return config.index.refine_search(search_results = search_results,\n",
    "                                      positive=positive,\n",
    "                                      negative=negative,\n",
    "                                      alpha=config.SEARCH_REFINED_ALPHA,\n",
    "                                      beta=config.SEARCH_REFINED_BETA,\n",
    "                                      gamma=config.SEARCH_REFINED_GAMMA)\n",
    "\n",
    "def user_get_articles_chunks(query : str,\n",
    "                           scrapping_total_limit : int = config.SCRAPING_RESULTS_LIMIT) -> List[ArticleChunk]:\n",
    "    docs = wikipedia_get_last_pt_articles(total_limit=scrapping_total_limit)\n",
    "    docs_chunks = wikipedia_get_article_chunks(docs)\n",
    "    return docs_chunks\n",
    "\n",
    "def user_get_query_results(query : str,\n",
    "                           top_k : int  = config.SEARCH_RESULTS_LIMIT,\n",
    "                           scrapping_total_limit : int = config.SCRAPING_RESULTS_LIMIT) -> List[SearchResultsGroupedByDoc]:\n",
    "    docs = wikipedia_get_last_pt_articles(total_limit=scrapping_total_limit)\n",
    "    docs_chunks = wikipedia_get_article_chunks(docs)\n",
    "    index = index_fit(docs_chunks)\n",
    "    search_docs = index_search_grouped_by_doc(query, top_k)\n",
    "    return search_docs"
   ]
  },
  {
   "cell_type": "code",
   "execution_count": null,
   "metadata": {},
   "outputs": [],
   "source": [
    "user_get_query_results(query=\"Quero saber mais sobre história\", top_k=10)"
   ]
  },
  {
   "cell_type": "code",
   "execution_count": null,
   "metadata": {},
   "outputs": [],
   "source": []
  }
 ],
 "metadata": {
  "kernelspec": {
   "display_name": ".venv",
   "language": "python",
   "name": "python3"
  },
  "language_info": {
   "codemirror_mode": {
    "name": "ipython",
    "version": 3
   },
   "file_extension": ".py",
   "mimetype": "text/x-python",
   "name": "python",
   "nbconvert_exporter": "python",
   "pygments_lexer": "ipython3",
   "version": "3.12.5"
  }
 },
 "nbformat": 4,
 "nbformat_minor": 2
}
