{
 "cells": [
  {
   "cell_type": "code",
   "execution_count": 1,
   "metadata": {},
   "outputs": [],
   "source": [
    "import os\n",
    "import sys\n",
    "import requests\n",
    "from bs4 import BeautifulSoup\n",
    "import wikipediaapi\n",
    "if os.path.abspath(os.path.join('..')) not in sys.path:\n",
    "    sys.path.append(os.path.abspath(os.path.join('..')))\n",
    "from utils.scrapper_wikipedia import ScrapperWikipedia\n",
    "from utils.chunking_models import ChunkingModel\n"
   ]
  },
  {
   "cell_type": "code",
   "execution_count": 2,
   "metadata": {},
   "outputs": [],
   "source": [
    "# Usage example\n",
    "wiki_search = ScrapperWikipedia()\n",
    "total_limit = 10\n",
    "requests_per_second = 100\n",
    "processing_type = \"wikipediaapi\"\n",
    "verbose = True\n",
    "chunking_model = ChunkingModel(chunk_size=500, chunk_overlap=0)"
   ]
  },
  {
   "cell_type": "code",
   "execution_count": null,
   "metadata": {},
   "outputs": [],
   "source": [
    "wiki_search.list_last_pt_articles(total_limit=total_limit)"
   ]
  },
  {
   "cell_type": "code",
   "execution_count": null,
   "metadata": {},
   "outputs": [],
   "source": [
    "articles = wiki_search.get_last_pt_articles(total_limit=total_limit, requests_per_second=requests_per_second,\n",
    "                    processing_type = processing_type, verbose = verbose)\n",
    "print(f\"Total of {len(articles)} articles fetched and parsed.\")\n",
    "articles"
   ]
  },
  {
   "cell_type": "code",
   "execution_count": 5,
   "metadata": {},
   "outputs": [],
   "source": [
    "articles_chunks = wiki_search.get_articles_chunks(articles=articles, chunking_model=chunking_model)"
   ]
  },
  {
   "cell_type": "code",
   "execution_count": null,
   "metadata": {},
   "outputs": [],
   "source": [
    "articles_chunks"
   ]
  },
  {
   "cell_type": "code",
   "execution_count": null,
   "metadata": {},
   "outputs": [],
   "source": []
  }
 ],
 "metadata": {
  "kernelspec": {
   "display_name": ".venv",
   "language": "python",
   "name": "python3"
  },
  "language_info": {
   "codemirror_mode": {
    "name": "ipython",
    "version": 3
   },
   "file_extension": ".py",
   "mimetype": "text/x-python",
   "name": "python",
   "nbconvert_exporter": "python",
   "pygments_lexer": "ipython3",
   "version": "3.12.5"
  }
 },
 "nbformat": 4,
 "nbformat_minor": 2
}
