{
 "cells": [
  {
   "cell_type": "code",
   "execution_count": 1,
   "metadata": {},
   "outputs": [],
   "source": [
    "import os\n",
    "import sys\n",
    "if os.path.abspath(os.path.join('..')) not in sys.path:\n",
    "    sys.path.append(os.path.abspath(os.path.join('..')))"
   ]
  },
  {
   "cell_type": "code",
   "execution_count": 2,
   "metadata": {},
   "outputs": [],
   "source": [
    "from utils.index import Index"
   ]
  },
  {
   "cell_type": "code",
   "execution_count": 3,
   "metadata": {},
   "outputs": [],
   "source": [
    "docs = [\n",
    "    {\n",
    "        \"question\": \"How do I join the course after it has started?\",\n",
    "        \"text\": \"You can join the course at any time. We have recordings available.\",\n",
    "        \"section\": \"General Information\",\n",
    "        \"course\": \"data-engineering-zoomcamp\"\n",
    "    },\n",
    "    {\n",
    "        \"question\": \"What are the prerequisites for the course?\",\n",
    "        \"text\": \"You need to have basic knowledge of programming.\",\n",
    "        \"section\": \"Course Requirements\",\n",
    "        \"course\": \"data-engineering-zoomcamp\"\n",
    "    }\n",
    "]"
   ]
  },
  {
   "cell_type": "code",
   "execution_count": 4,
   "metadata": {},
   "outputs": [
    {
     "data": {
      "text/plain": [
       "<utils.index.Index at 0x1c4723c6cc0>"
      ]
     },
     "execution_count": 4,
     "metadata": {},
     "output_type": "execute_result"
    }
   ],
   "source": [
    "index = Index(\n",
    "    text_fields=[\"question\", \"text\", \"section\"]\n",
    ")\n",
    "index.fit(docs)"
   ]
  },
  {
   "cell_type": "code",
   "execution_count": 6,
   "metadata": {},
   "outputs": [
    {
     "data": {
      "text/plain": [
       "[SearchResult(similarity=array([0.        , 0.39129369]), chunk={'question': 'What are the prerequisites for the course?', 'text': 'You need to have basic knowledge of programming.', 'section': 'Course Requirements', 'course': 'data-engineering-zoomcamp'})]"
      ]
     },
     "execution_count": 6,
     "metadata": {},
     "output_type": "execute_result"
    }
   ],
   "source": [
    "query = \"Prerequisites?\"\n",
    "search_results = index.search(query, boost_dict = {})\n",
    "search_results"
   ]
  },
  {
   "cell_type": "code",
   "execution_count": null,
   "metadata": {},
   "outputs": [],
   "source": []
  }
 ],
 "metadata": {
  "kernelspec": {
   "display_name": ".venv",
   "language": "python",
   "name": "python3"
  },
  "language_info": {
   "codemirror_mode": {
    "name": "ipython",
    "version": 3
   },
   "file_extension": ".py",
   "mimetype": "text/x-python",
   "name": "python",
   "nbconvert_exporter": "python",
   "pygments_lexer": "ipython3",
   "version": "3.12.5"
  }
 },
 "nbformat": 4,
 "nbformat_minor": 2
}
