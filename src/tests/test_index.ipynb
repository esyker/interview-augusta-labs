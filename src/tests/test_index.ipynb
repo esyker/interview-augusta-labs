{
 "cells": [
  {
   "cell_type": "code",
   "execution_count": 1,
   "metadata": {},
   "outputs": [],
   "source": [
    "import os\n",
    "import sys\n",
    "if os.path.abspath(os.path.join('..')) not in sys.path:\n",
    "    sys.path.append(os.path.abspath(os.path.join('..')))"
   ]
  },
  {
   "cell_type": "code",
   "execution_count": 2,
   "metadata": {},
   "outputs": [],
   "source": [
    "from utils.index import Index"
   ]
  },
  {
   "cell_type": "code",
   "execution_count": 3,
   "metadata": {},
   "outputs": [],
   "source": [
    "docs = [\n",
    "    {\n",
    "        \"question\": \"How do I join the course after it has started?\",\n",
    "        \"text\": \"You can join the course at any time. We have recordings available.\",\n",
    "        \"section\": \"General Information\",\n",
    "        \"course\": \"data-engineering-zoomcamp\"\n",
    "    },\n",
    "    {\n",
    "        \"question\": \"What are the prerequisites for the course?\",\n",
    "        \"text\": \"You need to have basic knowledge of programming.\",\n",
    "        \"section\": \"Course Requirements\",\n",
    "        \"course\": \"data-engineering-zoomcamp\"\n",
    "    }\n",
    "]"
   ]
  },
  {
   "cell_type": "code",
   "execution_count": 4,
   "metadata": {},
   "outputs": [
    {
     "data": {
      "text/plain": [
       "<utils.index.Index at 0x24cb06d3c50>"
      ]
     },
     "execution_count": 4,
     "metadata": {},
     "output_type": "execute_result"
    }
   ],
   "source": [
    "index = Index(\n",
    "    text_fields=[\"question\", \"text\", \"section\"],\n",
    "    keyword_fields=[\"course\"]\n",
    ")\n",
    "index.fit(docs)"
   ]
  },
  {
   "cell_type": "code",
   "execution_count": 5,
   "metadata": {},
   "outputs": [],
   "source": [
    "query = \"Can I join the course if it has already started?\"\n",
    "results = index.search(query, filter_dict = {}, boost_dict = {})"
   ]
  },
  {
   "cell_type": "code",
   "execution_count": 6,
   "metadata": {},
   "outputs": [
    {
     "name": "stdout",
     "output_type": "stream",
     "text": [
      "{'question': 'How do I join the course after it has started?', 'text': 'You can join the course at any time. We have recordings available.', 'section': 'General Information', 'course': 'data-engineering-zoomcamp'}\n",
      "{'question': 'What are the prerequisites for the course?', 'text': 'You need to have basic knowledge of programming.', 'section': 'Course Requirements', 'course': 'data-engineering-zoomcamp'}\n"
     ]
    }
   ],
   "source": [
    "for result in results:\n",
    "    print(result)"
   ]
  },
  {
   "cell_type": "code",
   "execution_count": null,
   "metadata": {},
   "outputs": [],
   "source": []
  }
 ],
 "metadata": {
  "kernelspec": {
   "display_name": ".venv",
   "language": "python",
   "name": "python3"
  },
  "language_info": {
   "codemirror_mode": {
    "name": "ipython",
    "version": 3
   },
   "file_extension": ".py",
   "mimetype": "text/x-python",
   "name": "python",
   "nbconvert_exporter": "python",
   "pygments_lexer": "ipython3",
   "version": "3.12.5"
  }
 },
 "nbformat": 4,
 "nbformat_minor": 2
}
