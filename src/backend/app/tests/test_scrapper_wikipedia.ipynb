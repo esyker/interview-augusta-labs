{
 "cells": [
  {
   "cell_type": "code",
   "execution_count": 1,
   "metadata": {},
   "outputs": [],
   "source": [
    "import os\n",
    "import sys\n",
    "if os.path.abspath(os.path.join('..')) not in sys.path:\n",
    "    sys.path.append(os.path.abspath(os.path.join('..')))\n",
    "from utils.scrapper_wikipedia import ScrapperWikipedia\n",
    "from utils.chunking_models import ChunkingModel\n",
    "from utils.index import Index\n",
    "from utils.typedefs import ArticleChunk"
   ]
  },
  {
   "cell_type": "code",
   "execution_count": 2,
   "metadata": {},
   "outputs": [],
   "source": [
    "# Usage example\n",
    "wiki_search = ScrapperWikipedia()\n",
    "index = Index(text_fields=ArticleChunk.get_text_fields_names(), vectorizer_params={})\n",
    "total_limit = 10\n",
    "requests_per_second = 100\n",
    "processing_type = \"wikipediaapi\"\n",
    "verbose = True\n",
    "chunking_model = ChunkingModel(chunk_size=300, chunk_overlap=0)"
   ]
  },
  {
   "cell_type": "code",
   "execution_count": null,
   "metadata": {},
   "outputs": [],
   "source": [
    "wiki_search.list_last_pt_articles(total_limit=total_limit)"
   ]
  },
  {
   "cell_type": "code",
   "execution_count": null,
   "metadata": {},
   "outputs": [],
   "source": [
    "articles = wiki_search.get_last_pt_articles(total_limit=total_limit, requests_per_second=requests_per_second,\n",
    "                    processing_type = processing_type, verbose = verbose)\n",
    "print(f\"Total of {len(articles)} articles fetched and parsed.\")\n",
    "articles"
   ]
  },
  {
   "cell_type": "code",
   "execution_count": null,
   "metadata": {},
   "outputs": [],
   "source": [
    "articles_chunks = wiki_search.get_articles_chunks(articles=articles, chunking_model=chunking_model)\n",
    "articles_chunks"
   ]
  },
  {
   "cell_type": "code",
   "execution_count": null,
   "metadata": {},
   "outputs": [],
   "source": [
    "index.fit(docs = articles_chunks)"
   ]
  },
  {
   "cell_type": "code",
   "execution_count": null,
   "metadata": {},
   "outputs": [],
   "source": [
    "search_results = index.search(query=\"história\", num_results=999)\n",
    "search_results"
   ]
  },
  {
   "cell_type": "code",
   "execution_count": null,
   "metadata": {},
   "outputs": [],
   "source": [
    "grouped_search_results = index.search_by_doc(query=\"história\", num_results=999)\n",
    "for _x in grouped_search_results:\n",
    "    print(\"Name: \", _x.article.info.name)\n",
    "grouped_search_results"
   ]
  },
  {
   "cell_type": "code",
   "execution_count": null,
   "metadata": {},
   "outputs": [],
   "source": [
    "grouped_search_results_refined = index.refine_search(grouped_search_results, positive=[\"Mudanças_climáticas_no_Brasil\"], negative=[\"Operação_Nuvens_de_Outono\"])\n",
    "for _x in grouped_search_results_refined:\n",
    "    print(\"Name: \", _x.article.info.name)\n",
    "grouped_search_results_refined"
   ]
  },
  {
   "cell_type": "code",
   "execution_count": null,
   "metadata": {},
   "outputs": [],
   "source": []
  }
 ],
 "metadata": {
  "kernelspec": {
   "display_name": ".venv",
   "language": "python",
   "name": "python3"
  },
  "language_info": {
   "codemirror_mode": {
    "name": "ipython",
    "version": 3
   },
   "file_extension": ".py",
   "mimetype": "text/x-python",
   "name": "python",
   "nbconvert_exporter": "python",
   "pygments_lexer": "ipython3",
   "version": "3.12.5"
  }
 },
 "nbformat": 4,
 "nbformat_minor": 2
}
