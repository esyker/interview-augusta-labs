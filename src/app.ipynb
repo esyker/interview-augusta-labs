{
 "cells": [
  {
   "cell_type": "code",
   "execution_count": 1,
   "metadata": {},
   "outputs": [],
   "source": [
    "from utils.index import Index\n",
    "from utils.scrapper_wikipedia import ScrapperWikipedia"
   ]
  },
  {
   "cell_type": "code",
   "execution_count": 2,
   "metadata": {},
   "outputs": [],
   "source": [
    "def answer_user_query(query : str, top_k : int  = 10, scrapping_total_limit : int = 50):\n",
    "    wiki_search = ScrapperWikipedia()\n",
    "    index = Index(\n",
    "        text_fields=[\"text\"],\n",
    "        keyword_fields=[\"url\", \"date\"]\n",
    "    )\n",
    "    docs = wiki_search.get_last_pt_articles(total_limit=scrapping_total_limit, requests_per_second=1,\n",
    "                    processing_type = \"default\", verbose = True)\n",
    "    index.fit(docs)\n",
    "    search_docs = index.search(query = query, num_results=top_k)\n",
    "    return search_docs"
   ]
  },
  {
   "cell_type": "code",
   "execution_count": null,
   "metadata": {},
   "outputs": [],
   "source": [
    "import urllib.parse\n",
    "\n",
    "# URL-encoded string\n",
    "encoded_string = 'Lista_de_vereadores_de_Tup%C3%A3'\n",
    "\n",
    "# Decode the URL-encoded string\n",
    "decoded_string = urllib.parse.unquote(encoded_string)\n",
    "\n",
    "print(decoded_string)  # Output: Lista_de_vereadores_de_Tupã"
   ]
  },
  {
   "cell_type": "code",
   "execution_count": 4,
   "metadata": {},
   "outputs": [],
   "source": [
    "wiki_search = ScrapperWikipedia()\n",
    "index = Index(\n",
    "    text_fields=[\"text\"],\n",
    "    keyword_fields=[\"url\", \"date\"]\n",
    ")"
   ]
  },
  {
   "cell_type": "code",
   "execution_count": null,
   "metadata": {},
   "outputs": [],
   "source": [
    "docs = wiki_search.get_last_pt_articles(total_limit=50, requests_per_second=1,\n",
    "                    processing_type = \"wikipediaapi\", verbose = True)"
   ]
  },
  {
   "cell_type": "code",
   "execution_count": null,
   "metadata": {},
   "outputs": [],
   "source": [
    "index.fit(docs)"
   ]
  },
  {
   "cell_type": "code",
   "execution_count": null,
   "metadata": {},
   "outputs": [],
   "source": [
    "index.search(query = \"Queria saber mais sobre artigos de história\")"
   ]
  },
  {
   "cell_type": "code",
   "execution_count": null,
   "metadata": {},
   "outputs": [],
   "source": [
    "answer_user_query(query=\"Quero saber mais sobre história\", top_k=5, scrapping_total_limit=10)"
   ]
  }
 ],
 "metadata": {
  "kernelspec": {
   "display_name": ".venv",
   "language": "python",
   "name": "python3"
  },
  "language_info": {
   "codemirror_mode": {
    "name": "ipython",
    "version": 3
   },
   "file_extension": ".py",
   "mimetype": "text/x-python",
   "name": "python",
   "nbconvert_exporter": "python",
   "pygments_lexer": "ipython3",
   "version": "3.12.5"
  }
 },
 "nbformat": 4,
 "nbformat_minor": 2
}
